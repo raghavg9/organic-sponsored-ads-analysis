{
  "nbformat": 4,
  "nbformat_minor": 0,
  "metadata": {
    "colab": {
      "provenance": []
    },
    "kernelspec": {
      "name": "python3",
      "display_name": "Python 3"
    },
    "language_info": {
      "name": "python"
    }
  },
  "cells": [
    {
      "cell_type": "markdown",
      "source": [
        "To critically assess an ROI analysis, considerations need to be made for both the quantitative and strategic aspects of search engine advertising, especially focusing on the organic versus sponsored traffic dynamics for branded searches. The data to be used to make this analysis would be two-fold.\n",
        "\n",
        "\n",
        "\n",
        "Firstly, I would look at traffic data from Google and Bing. The critical data includes weekly traffic from both sponsored and organic clicks. For Google, the notable increase in organic traffic in the absence of sponsored ads (weeks 10 to 12) compared to when sponsored ads were present (weeks 1 to 9) provides a quantitative basis to challenge the perceived necessity and efficiency of sponsored ads for branded searches.\n",
        "\n",
        "\n",
        "\n",
        "Next, I would look at conversion rate and cost data: Although not explicitly provided, understanding the conversion rates from both sponsored and organic traffic, coupled with the actual costs associated with sponsored clicks would help in making a comprehensive ROI analysis.\n",
        "\n",
        "\n",
        "\n",
        "In terms of strategic considerations, I would make while conducting my analysis, I would consider multiple factors which would influence the ROI.\n",
        "\n",
        "\n",
        "\n",
        " One thing to be considered would be a substitution effect. The increase in organic traffic during the absence of sponsored ads for branded searches suggests a potential substitution effect, where users who might have clicked on sponsored ads instead turn to organic listings. This effect challenges the notion that sponsored ads are always necessary for capturing traffic from users already searching for the brand.\n",
        "\n",
        "\n",
        "\n",
        "Another strategy to consider would be making a cost-benefit analysis. Assessing whether the incremental cost of sponsored ads for branded searches is justified by the incremental conversions they bring, considering the high likelihood that these users might convert through organic clicks if sponsored ads were not present.\n",
        "\n",
        ""
      ],
      "metadata": {
        "id": "f3oJ-Dco1mZe"
      }
    },
    {
      "cell_type": "markdown",
      "source": [
        "Google Data Analysis:\n",
        "\n",
        "Determine if there was a significant change in organic traffic during the weeks without sponsored advertising (weeks 10 to 12) compared to the weeks with sponsored advertising (weeks 1 to 9) for branded keywords on Google.\n",
        "\n",
        "Steps:\n",
        "\n",
        "1.Calculate the average weekly organic traffic during weeks 1 to 9.\n",
        "\n",
        "2.Calculate the average weekly organic traffic during weeks 10 to 12.\n",
        "\n",
        "3.Compare these averages to assess the impact of not running sponsored ads.\n",
        "\n",
        "\n",
        "\n",
        "Bing Data Analysis:\n",
        "\n",
        "As a control, I’ll also look at the Bing data where sponsored advertising was consistent across all 12 weeks, to see if there's any notable trend in organic traffic that could serve as a baseline or control for natural fluctuations in search behavior.\n",
        "\n",
        "Steps for Bing:\n",
        "\n",
        "1.Calculate the average weekly organic traffic during weeks 1 to 9 on Bing.\n",
        "\n",
        "2.Calculate the average weekly organic traffic during weeks 10 to 12 on Bing.\n",
        "\n",
        "3.Compare these averages to understand baseline fluctuations in organic search traffic.\n",
        "\n",
        "\n",
        "\n",
        "I will use Python code to calculate these results. I am creating lists and using human readable functions so that the steps are easily understandable and equivalent to using the mathematical representations.\n",
        "\n",
        ""
      ],
      "metadata": {
        "id": "hXGfvtF32hBM"
      }
    },
    {
      "cell_type": "code",
      "source": [
        "# Google Data\n",
        "\n",
        "google_organic_weeks_1_to_9 = [127876, 128169, 125717, 126264, 123871, 124053, 126105, 123064, 121637]\n",
        "\n",
        "google_organic_weeks_10_to_12 = [150188, 148658, 146584]\n",
        "\n",
        "\n",
        "\n",
        "# Bing Data\n",
        "\n",
        "bing_organic_weeks_1_to_9 = [15805, 15964, 15815, 15810, 15633, 15797, 15462, 15309, 15499]\n",
        "\n",
        "bing_organic_weeks_10_to_12 = [15185, 15159, 15036]\n",
        "\n",
        "\n",
        "\n",
        "# Calculating averages\n",
        "\n",
        "avg_google_organic_weeks_1_to_9 = sum(google_organic_weeks_1_to_9) / len(google_organic_weeks_1_to_9)\n",
        "\n",
        "avg_google_organic_weeks_10_to_12 = sum(google_organic_weeks_10_to_12) / len(google_organic_weeks_10_to_12)\n",
        "\n",
        "\n",
        "\n",
        "avg_bing_organic_weeks_1_to_9 = sum(bing_organic_weeks_1_to_9) / len(bing_organic_weeks_1_to_9)\n",
        "\n",
        "avg_bing_organic_weeks_10_to_12 = sum(bing_organic_weeks_10_to_12) / len(bing_organic_weeks_10_to_12)\n",
        "\n",
        "\n",
        "\n",
        "avg_google_organic_weeks_1_to_9, avg_google_organic_weeks_10_to_12, avg_bing_organic_weeks_1_to_9, avg_bing_organic_weeks_10_to_12\n",
        "\n",
        ""
      ],
      "metadata": {
        "id": "NExb0E4i19yN"
      },
      "execution_count": null,
      "outputs": []
    },
    {
      "cell_type": "markdown",
      "source": [
        "Analysis Results:\n",
        "\n",
        "Google Organic Traffic:\n",
        "\n",
        "•           Average weekly organic traffic during weeks 1 to 9: 125,195\n",
        "\n",
        "•           Average weekly organic traffic during weeks 10 to 12: 148,477\n",
        "\n",
        "Bing Organic Traffic (Control Group):\n",
        "\n",
        "•           Average weekly organic traffic during weeks 1 to 9: 15,677\n",
        "\n",
        "•           Average weekly organic traffic during weeks 10 to 12: 15,127\n",
        "\n",
        "\n",
        "\n",
        "For Google, where the sponsored advertising was halted during weeks 10 to 12, there was a significant increase in organic traffic, from an average of 125,195 to 148,477. This suggests that the absence of sponsored ads did not harm overall traffic to Bazaar's website; in fact, organic traffic increased, potentially indicating that users who might have clicked on sponsored ads instead turned to organic listings.\n",
        "\n",
        "\n",
        "\n",
        "For Bing, which served as a control group with continuous sponsored advertising across all weeks, the organic traffic remained relatively stable, with a slight decrease in the average weekly organic traffic from 15,677 during weeks 1 to 9 to 15,127 during weeks 10 to 12. This slight decrease could be attributed to natural fluctuations and does not show a significant impact that would mirror the increase seen in Google's organic traffic.\n",
        "\n",
        "\n",
        "\n",
        "The increase in organic traffic on Google during the weeks without sponsored ads suggests that the company may capture a significant portion of the intended traffic through organic search results, even in the absence of sponsored ads for branded keywords. This challenges Bob's assumption about the necessity and efficiency of spending on sponsored ads for branded searches, as it appears a considerable amount of traffic and potential conversions could be obtained without incurring the cost of sponsored ads. It highlights the importance of evaluating the incremental value of sponsored ads, especially when a strong organic presence already captures user intent for branded searches.\n",
        "\n",
        "This analysis implies that the ROI calculation for sponsored ads should also consider the potential for organic search to fulfill user intent without additional ad spend, potentially adjusting the perceived value and efficiency of sponsored search advertising for branded keywords."
      ],
      "metadata": {
        "id": "f1irRQSN3ATh"
      }
    }
  ]
}